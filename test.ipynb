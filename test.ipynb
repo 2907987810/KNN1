{
 "metadata": {
  "language_info": {
   "codemirror_mode": {
    "name": "ipython",
    "version": 3
   },
   "file_extension": ".py",
   "mimetype": "text/x-python",
   "name": "python",
   "nbconvert_exporter": "python",
   "pygments_lexer": "ipython3",
   "version": "3.7.9-final"
  },
  "orig_nbformat": 2,
  "kernelspec": {
   "name": "python3",
   "display_name": "Python 3",
   "language": "python"
  }
 },
 "nbformat": 4,
 "nbformat_minor": 2,
 "cells": [
  {
   "cell_type": "code",
   "execution_count": 1,
   "metadata": {},
   "outputs": [],
   "source": [
    "import pandas as pd\n",
    "import numpy as np"
   ]
  },
  {
   "cell_type": "code",
   "execution_count": 17,
   "metadata": {},
   "outputs": [
    {
     "output_type": "execute_result",
     "data": {
      "text/plain": [
       "2000-10-01 23:35:00     0\n",
       "2000-10-01 23:52:00    18\n",
       "2000-10-02 00:09:00    27\n",
       "2000-10-02 00:26:00    63\n",
       "Freq: 17T, dtype: int64"
      ]
     },
     "metadata": {},
     "execution_count": 17
    }
   ],
   "source": [
    "start, end = \"2000-10-01 23:30:00\", \"2000-10-02 00:26:00\"\n",
    "rng = pd.date_range(start, end, freq=\"7min\")\n",
    "ts = pd.Series([0, 3, 6, 9, 12, 15, 18, 21, 24], index=rng)\n",
    "\n",
    "res = ts.resample(\"17min\", origin=\"end\").sum()\n",
    "data = [0, 18, 27, 63]\n",
    "expected = pd.Series(\n",
    "        data,\n",
    "        index=pd.date_range(\n",
    "            end=\"20001002 00:26:00\",\n",
    "            freq=\"17min\",\n",
    "            periods=4,\n",
    "        ),\n",
    "    )\n",
    "res"
   ]
  },
  {
   "cell_type": "code",
   "execution_count": 16,
   "metadata": {},
   "outputs": [
    {
     "output_type": "execute_result",
     "data": {
      "text/plain": [
       "array([ 0,  3,  6,  9, 12, 15, 18, 21, 24])"
      ]
     },
     "metadata": {},
     "execution_count": 16
    }
   ],
   "source": [
    "np.arange(len(rng)) * 3"
   ]
  },
  {
   "cell_type": "code",
   "execution_count": 14,
   "metadata": {},
   "outputs": [
    {
     "output_type": "execute_result",
     "data": {
      "text/plain": [
       "2020-01-01 08:27:45    1\n",
       "2020-01-01 08:34:45    6\n",
       "2020-01-01 08:41:45    5\n",
       "2020-01-01 08:48:45    6\n",
       "2020-01-01 08:55:45    5\n",
       "2020-01-01 09:02:45    6\n",
       "2020-01-01 09:09:45    5\n",
       "2020-01-01 09:16:45    6\n",
       "2020-01-01 09:23:45    5\n",
       "2020-01-01 09:30:45    6\n",
       "Freq: 7T, dtype: int64"
      ]
     },
     "metadata": {},
     "execution_count": 14
    }
   ],
   "source": [
    "idx = pd.date_range(\"20200101 8:26:35\", \"20200101 9:31:58\", freq=\"77s\")\n",
    "data = [1]*len(idx)\n",
    "s = pd.Series(data, index=idx)\n",
    "result = s.resample(\"7min\", origin=\"end\", closed=\"right\").sum()\n",
    "\n",
    "exp_idx = pd.date_range(\"2020-01-01 08:27:45\", \"2020-01-01 09:30:45\", freq=\"7T\")\n",
    "exp_data = [1, 6, 5, 6, 5, 6, 5, 6, 5, 6]\n",
    "expected = pd.Series(exp_data, index=exp_idx)\n",
    "expected"
   ]
  }
 ]
}