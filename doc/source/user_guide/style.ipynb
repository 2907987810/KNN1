{
 "cells": [
  {
   "cell_type": "markdown",
   "metadata": {},
   "source": [
    "# Table Visualization\n",
    "\n",
    "This section demonstrates visualization of tabular data using the [Styler][styler]\n",
    "class. For information on visualization with charting please see [Chart Visualization][viz]. This document is written as a Jupyter Notebook, and can be viewed or downloaded [here][download].\n",
    "\n",
    "[styler]: ../reference/api/pandas.io.formats.style.Styler.html#pandas.io.formats.style.Styler\n",
    "[viz]: visualization.rst\n",
    "[download]: https://nbviewer.ipython.org/github/pandas-dev/pandas/blob/master/doc/source/user_guide/style.ipynb"
   ]
  },
  {
   "cell_type": "markdown",
   "metadata": {},
   "source": [
    "## Styler Object and HTML \n",
    "\n",
    "Styling should be performed after the data in a DataFrame has been processed. The [Styler][styler] creates an HTML `<table>` and leverages CSS styling language to manipulate many parameters including colors, fonts, borders, background, etc. See [here][w3schools] for more information on styling HTML tables. This allows a lot of flexibility out of the box, and even enables web developers to integrate DataFrames into their exiting user interface designs.\n",
    "    \n",
    "The `DataFrame.style` attribute is a property that returns a [Styler][styler] object. It has a `_repr_html_` method defined on it so they are rendered automatically in Jupyter Notebook.\n",
    "\n",
    "[styler]: ../reference/api/pandas.io.formats.style.Styler.html#pandas.io.formats.style.Styler\n",
    "[w3schools]: https://www.w3schools.com/html/html_tables.asp"
   ]
  },
  {
   "cell_type": "code",
   "execution_count": 126,
   "metadata": {
    "nbsphinx": "hidden"
   },
   "outputs": [],
   "source": [
    "import matplotlib.pyplot\n",
    "# We have this here to trigger matplotlib's font cache stuff.\n",
    "# This cell is hidden from the output"
   ]
  },
  {
   "cell_type": "code",
   "execution_count": 127,
   "metadata": {},
   "outputs": [
    {
     "data": {
      "text/html": [
       "<style type=\"text/css\">\n",
       "</style>\n",
       "<table id=\"T_4b98c_\">\n",
       "  <thead>\n",
       "    <tr>\n",
       "      <th class=\"index_name level0\" >Model:</th>\n",
       "      <th class=\"col_heading level0 col0\" colspan=\"2\">Decision Tree</th>\n",
       "      <th class=\"col_heading level0 col2\" colspan=\"2\">Regression</th>\n",
       "      <th class=\"col_heading level0 col4\" colspan=\"2\">Random</th>\n",
       "    </tr>\n",
       "    <tr>\n",
       "      <th class=\"index_name level1\" >Predicted:</th>\n",
       "      <th class=\"col_heading level1 col0\" >Tumour</th>\n",
       "      <th class=\"col_heading level1 col1\" >Non-Tumour</th>\n",
       "      <th class=\"col_heading level1 col2\" >Tumour</th>\n",
       "      <th class=\"col_heading level1 col3\" >Non-Tumour</th>\n",
       "      <th class=\"col_heading level1 col4\" >Tumour</th>\n",
       "      <th class=\"col_heading level1 col5\" >Non-Tumour</th>\n",
       "    </tr>\n",
       "    <tr>\n",
       "      <th class=\"index_name level0\" >Actual Label:</th>\n",
       "      <th class=\"blank\" ></th>\n",
       "      <th class=\"blank\" ></th>\n",
       "      <th class=\"blank\" ></th>\n",
       "      <th class=\"blank\" ></th>\n",
       "      <th class=\"blank\" ></th>\n",
       "      <th class=\"blank\" ></th>\n",
       "    </tr>\n",
       "  </thead>\n",
       "  <tbody>\n",
       "    <tr>\n",
       "      <th id=\"T_4b98c_level0_row0\" class=\"row_heading level0 row0\" >Tumor (Positive)</th>\n",
       "      <td id=\"T_4b98c_row0_col0\" class=\"data row0 col0\" >38.000000</td>\n",
       "      <td id=\"T_4b98c_row0_col1\" class=\"data row0 col1\" >2.000000</td>\n",
       "      <td id=\"T_4b98c_row0_col2\" class=\"data row0 col2\" >18.000000</td>\n",
       "      <td id=\"T_4b98c_row0_col3\" class=\"data row0 col3\" >22.000000</td>\n",
       "      <td id=\"T_4b98c_row0_col4\" class=\"data row0 col4\" >21</td>\n",
       "      <td id=\"T_4b98c_row0_col5\" class=\"data row0 col5\" >19</td>\n",
       "    </tr>\n",
       "    <tr>\n",
       "      <th id=\"T_4b98c_level0_row1\" class=\"row_heading level0 row1\" >Non-Tumour (Negative)</th>\n",
       "      <td id=\"T_4b98c_row1_col0\" class=\"data row1 col0\" >19.000000</td>\n",
       "      <td id=\"T_4b98c_row1_col1\" class=\"data row1 col1\" >439.000000</td>\n",
       "      <td id=\"T_4b98c_row1_col2\" class=\"data row1 col2\" >6.000000</td>\n",
       "      <td id=\"T_4b98c_row1_col3\" class=\"data row1 col3\" >452.000000</td>\n",
       "      <td id=\"T_4b98c_row1_col4\" class=\"data row1 col4\" >226</td>\n",
       "      <td id=\"T_4b98c_row1_col5\" class=\"data row1 col5\" >232</td>\n",
       "    </tr>\n",
       "  </tbody>\n",
       "</table>\n"
      ],
      "text/plain": [
       "<pandas.io.formats.style.Styler at 0x7f846608e670>"
      ]
     },
     "execution_count": 127,
     "metadata": {},
     "output_type": "execute_result"
    }
   ],
   "source": [
    "import pandas as pd\n",
    "import numpy as np\n",
    "\n",
    "df = pd.DataFrame([[38.0, 2.0, 18.0, 22.0, 21,19],[19, 439, 6, 452, 226,232]], \n",
    "                  index=pd.Index(['Tumor (Positive)', 'Non-Tumour (Negative)'], name='Actual Label:'), \n",
    "                  columns=pd.MultiIndex.from_product([['Decision Tree', 'Regression', 'Random'],['Tumour', 'Non-Tumour']], names=['Model:', 'Predicted:']))\n",
    "df.style"
   ]
  },
  {
   "cell_type": "markdown",
   "metadata": {},
   "source": [
    "The above output looks very similar to the standard DataFrame HTML representation. But the HTML here has already attached some CSS classes to each cell, even if we haven't yet created any styles. We can view these by calling the  [.render()][render] method, which returns the raw HTML as string, which is useful for further processing or adding to a file - read on in [More about CSS and HTML](#More-About-CSS-and-HTML). Below we will show how we can use these to format the DataFrame to be more communicative. For example how we can build `s`:\n",
    "\n",
    "[render]: ../reference/api/pandas.io.formats.style.Styler.render.html#pandas.io.formats.style.Styler.render"
   ]
  },
  {
   "cell_type": "code",
   "execution_count": 155,
   "metadata": {
    "nbsphinx": "hidden"
   },
   "outputs": [],
   "source": [
    "s = df.style\\\n",
    "      .hide_columns([('Random', 'Tumour'), ('Random', 'Non-Tumour')])\\\n",
    "      .format('{:.0f}')\\\n",
    "      .set_table_styles([\n",
    "      {\n",
    "        'selector': '',\n",
    "        'props': 'caption-side: bottom; border-collapse: separate;'\n",
    "      },{\n",
    "        'selector': '.index_name',\n",
    "        'props': 'font-style: italic; color: darkgrey; font-weight:normal;'\n",
    "      },{\n",
    "        'selector': 'th:not(.index_name)',\n",
    "        'props': 'background-color: darkblue; color: white;'\n",
    "      },{\n",
    "        'selector': 'th.col_heading',\n",
    "        'props': 'text-align: center;'\n",
    "      },{\n",
    "        'selector': 'th.col_heading.level0',\n",
    "        'props': 'font-size: 1.5em;'\n",
    "      },{\n",
    "        'selector': 'th.col2',\n",
    "        'props': 'border-left: 1px solid white;'\n",
    "      },{\n",
    "        'selector': '.col2',\n",
    "        'props': 'border-left: 1px solid darkblue;'\n",
    "      },{\n",
    "        'selector': 'td',\n",
    "        'props': 'text-align: center; font-weight:bold;'\n",
    "      },{\n",
    "        'selector': '.true',\n",
    "        'props': 'background-color: #e6ffe6;'\n",
    "      },{\n",
    "        'selector': '.false',\n",
    "        'props': 'background-color: #ffe6e6;'\n",
    "      },{\n",
    "        'selector': '.border-red',\n",
    "        'props': 'border: 2px dashed red;'\n",
    "      },{\n",
    "        'selector': '.border-green',\n",
    "        'props': 'border: 2px dashed green;'\n",
    "      },{\n",
    "        'selector': 'td:hover',\n",
    "        'props': 'background-color: #ffffb3;'\n",
    "      }])\\\n",
    "      .set_td_classes(pd.DataFrame([['true border-green', 'false', 'true', 'false border-red', '', ''],\n",
    "                                    ['false', 'true', 'false', 'true', '', '']], \n",
    "                                    index=df.index, columns=df.columns))\\\n",
    "      .set_caption(\"Confusion matrix for multiple cancer prediction models.\")\\\n",
    "      .set_tooltips(pd.DataFrame([['DT has a very strong true positive rate', '', '', 'Regression total false negatives is unacceptable', '', ''],\n",
    "                                    ['', '', '', '', '', '']], \n",
    "                                    index=df.index, columns=df.columns))\\\n",
    "      .set_tooltips_class(name='pd-tt', properties=\n",
    "    'visibility: hidden; position: absolute; z-index: 1;'\n",
    "    'background-color: lightgrey; color: darkblue; font-size: 0.8em;' \n",
    "    'transform: translate(0px, -24px); padding: 0.5em; border-radius: 0.5em;'\n",
    ")\n"
   ]
  },
  {
   "cell_type": "code",
   "execution_count": 156,
   "metadata": {},
   "outputs": [
    {
     "data": {
      "text/html": [
       "<style type=\"text/css\">\n",
       "#T_64c1c_  {\n",
       "  caption-side: bottom;\n",
       "  border-collapse: separate;\n",
       "}\n",
       "#T_64c1c_ .index_name {\n",
       "  font-style: italic;\n",
       "  color: darkgrey;\n",
       "  font-weight: normal;\n",
       "}\n",
       "#T_64c1c_ th:not(.index_name) {\n",
       "  background-color: darkblue;\n",
       "  color: white;\n",
       "}\n",
       "#T_64c1c_ th.col_heading {\n",
       "  text-align: center;\n",
       "}\n",
       "#T_64c1c_ th.col_heading.level0 {\n",
       "  font-size: 1.5em;\n",
       "}\n",
       "#T_64c1c_ th.col2 {\n",
       "  border-left: 1px solid white;\n",
       "}\n",
       "#T_64c1c_ .col2 {\n",
       "  border-left: 1px solid darkblue;\n",
       "}\n",
       "#T_64c1c_ td {\n",
       "  text-align: center;\n",
       "  font-weight: bold;\n",
       "}\n",
       "#T_64c1c_ .true {\n",
       "  background-color: #e6ffe6;\n",
       "}\n",
       "#T_64c1c_ .false {\n",
       "  background-color: #ffe6e6;\n",
       "}\n",
       "#T_64c1c_ .border-red {\n",
       "  border: 2px dashed red;\n",
       "}\n",
       "#T_64c1c_ .border-green {\n",
       "  border: 2px dashed green;\n",
       "}\n",
       "#T_64c1c_ td:hover {\n",
       "  background-color: #ffffb3;\n",
       "}\n",
       "#T_64c1c_ .pd-tt {\n",
       "  visibility: hidden;\n",
       "  position: absolute;\n",
       "  z-index: 1;\n",
       "  background-color: lightgrey;\n",
       "  color: darkblue;\n",
       "  font-size: 0.8em;\n",
       "  transform: translate(0px, -24px);\n",
       "  padding: 0.5em;\n",
       "  border-radius: 0.5em;\n",
       "}\n",
       "#T_64c1c_ #T_64c1c_row0_col0:hover .pd-tt {\n",
       "  visibility: visible;\n",
       "}\n",
       "#T_64c1c_ #T_64c1c_row0_col0 .pd-tt::after {\n",
       "  content: \"DT has a very strong true positive rate\";\n",
       "}\n",
       "#T_64c1c_ #T_64c1c_row0_col3:hover .pd-tt {\n",
       "  visibility: visible;\n",
       "}\n",
       "#T_64c1c_ #T_64c1c_row0_col3 .pd-tt::after {\n",
       "  content: \"Regression total false negatives is unacceptable\";\n",
       "}\n",
       "</style>\n",
       "<table id=\"T_64c1c_\">\n",
       "  <caption>Confusion matrix for multiple cancer prediction models.</caption>\n",
       "  <thead>\n",
       "    <tr>\n",
       "      <th class=\"index_name level0\" >Model:</th>\n",
       "      <th class=\"col_heading level0 col0\" colspan=\"2\">Decision Tree</th>\n",
       "      <th class=\"col_heading level0 col2\" colspan=\"2\">Regression</th>\n",
       "    </tr>\n",
       "    <tr>\n",
       "      <th class=\"index_name level1\" >Predicted:</th>\n",
       "      <th class=\"col_heading level1 col0\" >Tumour</th>\n",
       "      <th class=\"col_heading level1 col1\" >Non-Tumour</th>\n",
       "      <th class=\"col_heading level1 col2\" >Tumour</th>\n",
       "      <th class=\"col_heading level1 col3\" >Non-Tumour</th>\n",
       "    </tr>\n",
       "    <tr>\n",
       "      <th class=\"index_name level0\" >Actual Label:</th>\n",
       "      <th class=\"blank\" ></th>\n",
       "      <th class=\"blank\" ></th>\n",
       "      <th class=\"blank\" ></th>\n",
       "      <th class=\"blank\" ></th>\n",
       "    </tr>\n",
       "  </thead>\n",
       "  <tbody>\n",
       "    <tr>\n",
       "      <th id=\"T_64c1c_level0_row0\" class=\"row_heading level0 row0\" >Tumor (Positive)</th>\n",
       "      <td id=\"T_64c1c_row0_col0\" class=\"data row0 col0 true border-green\" >38<span class=\"pd-tt\"></span></td>\n",
       "      <td id=\"T_64c1c_row0_col1\" class=\"data row0 col1 false\" >2<span class=\"pd-tt\"></span></td>\n",
       "      <td id=\"T_64c1c_row0_col2\" class=\"data row0 col2 true\" >18<span class=\"pd-tt\"></span></td>\n",
       "      <td id=\"T_64c1c_row0_col3\" class=\"data row0 col3 false border-red\" >22<span class=\"pd-tt\"></span></td>\n",
       "    </tr>\n",
       "    <tr>\n",
       "      <th id=\"T_64c1c_level0_row1\" class=\"row_heading level0 row1\" >Non-Tumour (Negative)</th>\n",
       "      <td id=\"T_64c1c_row1_col0\" class=\"data row1 col0 false\" >19<span class=\"pd-tt\"></span></td>\n",
       "      <td id=\"T_64c1c_row1_col1\" class=\"data row1 col1 true\" >439<span class=\"pd-tt\"></span></td>\n",
       "      <td id=\"T_64c1c_row1_col2\" class=\"data row1 col2 false\" >6<span class=\"pd-tt\"></span></td>\n",
       "      <td id=\"T_64c1c_row1_col3\" class=\"data row1 col3 true\" >452<span class=\"pd-tt\"></span></td>\n",
       "    </tr>\n",
       "  </tbody>\n",
       "</table>\n"
      ],
      "text/plain": [
       "<pandas.io.formats.style.Styler at 0x7f8466406190>"
      ]
     },
     "execution_count": 156,
     "metadata": {},
     "output_type": "execute_result"
    }
   ],
   "source": [
    "s"
   ]
  },
  {
   "cell_type": "markdown",
   "metadata": {},
   "source": [
    "## Formatting Display Values \n",
    "\n",
    "Before adding styles it is useful to show that the [Styler][styler] can distinguish the *display* value from the *actual* value. To control the display value, the text is printed in each cell, and we can use [.format()][formatfunc] method to manipulate this according to a [format spec string][format] or a callable that takes a single value and returns a string. It is possible to define this for the whole table or for individual columns. \n",
    "\n",
    "Missing data can also be reformatted easily here and we can also [hide data](#Hiding-Data) if necessary.\n",
    "\n",
    "[styler]: ../reference/api/pandas.io.formats.style.Styler.html#pandas.io.formats.style.Styler\n",
    "[format]: https://docs.python.org/3/library/string.html#format-specification-mini-language\n",
    "[formatfunc]: ../reference/api/pandas.io.formats.style.Styler.format.html#pandas.io.formats.style.Styler.format"
   ]
  },
  {
   "cell_type": "code",
   "execution_count": 157,
   "metadata": {},
   "outputs": [
    {
     "data": {
      "text/html": [
       "<style type=\"text/css\">\n",
       "</style>\n",
       "<table id=\"T_cef3a_\">\n",
       "  <thead>\n",
       "    <tr>\n",
       "      <th class=\"index_name level0\" >Model:</th>\n",
       "      <th class=\"col_heading level0 col0\" colspan=\"2\">Decision Tree</th>\n",
       "      <th class=\"col_heading level0 col2\" colspan=\"2\">Regression</th>\n",
       "      <th class=\"col_heading level0 col4\" colspan=\"2\">Random</th>\n",
       "    </tr>\n",
       "    <tr>\n",
       "      <th class=\"index_name level1\" >Predicted:</th>\n",
       "      <th class=\"col_heading level1 col0\" >Tumour</th>\n",
       "      <th class=\"col_heading level1 col1\" >Non-Tumour</th>\n",
       "      <th class=\"col_heading level1 col2\" >Tumour</th>\n",
       "      <th class=\"col_heading level1 col3\" >Non-Tumour</th>\n",
       "      <th class=\"col_heading level1 col4\" >Tumour</th>\n",
       "      <th class=\"col_heading level1 col5\" >Non-Tumour</th>\n",
       "    </tr>\n",
       "    <tr>\n",
       "      <th class=\"index_name level0\" >Actual Label:</th>\n",
       "      <th class=\"blank\" ></th>\n",
       "      <th class=\"blank\" ></th>\n",
       "      <th class=\"blank\" ></th>\n",
       "      <th class=\"blank\" ></th>\n",
       "      <th class=\"blank\" ></th>\n",
       "      <th class=\"blank\" ></th>\n",
       "    </tr>\n",
       "  </thead>\n",
       "  <tbody>\n",
       "    <tr>\n",
       "      <th id=\"T_cef3a_level0_row0\" class=\"row_heading level0 row0\" >Tumor (Positive)</th>\n",
       "      <td id=\"T_cef3a_row0_col0\" class=\"data row0 col0\" >38</td>\n",
       "      <td id=\"T_cef3a_row0_col1\" class=\"data row0 col1\" >2</td>\n",
       "      <td id=\"T_cef3a_row0_col2\" class=\"data row0 col2\" >18</td>\n",
       "      <td id=\"T_cef3a_row0_col3\" class=\"data row0 col3\" >22</td>\n",
       "      <td id=\"T_cef3a_row0_col4\" class=\"data row0 col4\" >21</td>\n",
       "      <td id=\"T_cef3a_row0_col5\" class=\"data row0 col5\" >19</td>\n",
       "    </tr>\n",
       "    <tr>\n",
       "      <th id=\"T_cef3a_level0_row1\" class=\"row_heading level0 row1\" >Non-Tumour (Negative)</th>\n",
       "      <td id=\"T_cef3a_row1_col0\" class=\"data row1 col0\" >19</td>\n",
       "      <td id=\"T_cef3a_row1_col1\" class=\"data row1 col1\" >439</td>\n",
       "      <td id=\"T_cef3a_row1_col2\" class=\"data row1 col2\" >6</td>\n",
       "      <td id=\"T_cef3a_row1_col3\" class=\"data row1 col3\" >452</td>\n",
       "      <td id=\"T_cef3a_row1_col4\" class=\"data row1 col4\" >226</td>\n",
       "      <td id=\"T_cef3a_row1_col5\" class=\"data row1 col5\" >232</td>\n",
       "    </tr>\n",
       "  </tbody>\n",
       "</table>\n"
      ],
      "text/plain": [
       "<pandas.io.formats.style.Styler at 0x7f84661fac10>"
      ]
     },
     "execution_count": 157,
     "metadata": {},
     "output_type": "execute_result"
    }
   ],
   "source": [
    "df.style.format(\"{:,.0f}\")"
   ]
  },
  {
   "cell_type": "code",
   "execution_count": 158,
   "metadata": {},
   "outputs": [
    {
     "data": {
      "text/html": [
       "<style type=\"text/css\">\n",
       "</style>\n",
       "<table id=\"T_86b6d_\">\n",
       "  <thead>\n",
       "    <tr>\n",
       "      <th class=\"index_name level0\" >Model:</th>\n",
       "      <th class=\"col_heading level0 col0\" colspan=\"2\">Decision Tree</th>\n",
       "      <th class=\"col_heading level0 col2\" colspan=\"2\">Regression</th>\n",
       "      <th class=\"col_heading level0 col4\" colspan=\"2\">Random</th>\n",
       "    </tr>\n",
       "    <tr>\n",
       "      <th class=\"index_name level1\" >Predicted:</th>\n",
       "      <th class=\"col_heading level1 col0\" >Tumour</th>\n",
       "      <th class=\"col_heading level1 col1\" >Non-Tumour</th>\n",
       "      <th class=\"col_heading level1 col2\" >Tumour</th>\n",
       "      <th class=\"col_heading level1 col3\" >Non-Tumour</th>\n",
       "      <th class=\"col_heading level1 col4\" >Tumour</th>\n",
       "      <th class=\"col_heading level1 col5\" >Non-Tumour</th>\n",
       "    </tr>\n",
       "    <tr>\n",
       "      <th class=\"index_name level0\" >Actual Label:</th>\n",
       "      <th class=\"blank\" ></th>\n",
       "      <th class=\"blank\" ></th>\n",
       "      <th class=\"blank\" ></th>\n",
       "      <th class=\"blank\" ></th>\n",
       "      <th class=\"blank\" ></th>\n",
       "      <th class=\"blank\" ></th>\n",
       "    </tr>\n",
       "  </thead>\n",
       "  <tbody>\n",
       "    <tr>\n",
       "      <th id=\"T_86b6d_level0_row0\" class=\"row_heading level0 row0\" >Tumor (Positive)</th>\n",
       "      <td id=\"T_86b6d_row0_col0\" class=\"data row0 col0\" >38.00</td>\n",
       "      <td id=\"T_86b6d_row0_col1\" class=\"data row0 col1\" >2</td>\n",
       "      <td id=\"T_86b6d_row0_col2\" class=\"data row0 col2\" >18</td>\n",
       "      <td id=\"T_86b6d_row0_col3\" class=\"data row0 col3\" >-22,000.0</td>\n",
       "      <td id=\"T_86b6d_row0_col4\" class=\"data row0 col4\" >21</td>\n",
       "      <td id=\"T_86b6d_row0_col5\" class=\"data row0 col5\" >19</td>\n",
       "    </tr>\n",
       "    <tr>\n",
       "      <th id=\"T_86b6d_level0_row1\" class=\"row_heading level0 row1\" >Non-Tumour (Negative)</th>\n",
       "      <td id=\"T_86b6d_row1_col0\" class=\"data row1 col0\" >19.00</td>\n",
       "      <td id=\"T_86b6d_row1_col1\" class=\"data row1 col1\" >439</td>\n",
       "      <td id=\"T_86b6d_row1_col2\" class=\"data row1 col2\" >6</td>\n",
       "      <td id=\"T_86b6d_row1_col3\" class=\"data row1 col3\" >-452,000.0</td>\n",
       "      <td id=\"T_86b6d_row1_col4\" class=\"data row1 col4\" >226</td>\n",
       "      <td id=\"T_86b6d_row1_col5\" class=\"data row1 col5\" >232</td>\n",
       "    </tr>\n",
       "  </tbody>\n",
       "</table>\n"
      ],
      "text/plain": [
       "<pandas.io.formats.style.Styler at 0x7f8466402820>"
      ]
     },
     "execution_count": 158,
     "metadata": {},
     "output_type": "execute_result"
    }
   ],
   "source": [
    "df.style.format('{:.0f}').format({\n",
    "    ('Decision Tree', 'Tumour'): \"{:.2f}\",\n",
    "    ('Regression', 'Non-Tumour'): lambda x: \"{:,.1f}\".format(x*-1e3),\n",
    "})"
   ]
  },
  {
   "cell_type": "markdown",
   "metadata": {},
   "source": [
    "### Hiding Data\n",
    "\n",
    "The index can be hidden from rendering by calling [.hide_index()][hideidx]. \n",
    "\n",
    "Columns can be hidden from rendering by calling [.hide_columns()][hidecols] and passing in the name of a column, or a slice of columns.\n",
    "\n",
    "Hiding does not change the integer arrangement of CSS classes, i.e. the `Employees` column is not be reindexed to `.col0` but remains as `.col2`. It does also not affect the underlying ``Styler.data``.\n",
    "\n",
    "We can update our `style` object to hide some data and format the values...\n",
    "\n",
    "[hideidx]: ../reference/api/pandas.io.formats.style.Styler.hide_index.html#pandas.io.formats.style.Styler.hide_index\n",
    "[hidecols]: ../reference/api/pandas.io.formats.style.Styler.hide_columns.html#pandas.io.formats.style.Styler.hide_columns"
   ]
  },
  {
   "cell_type": "code",
   "execution_count": 161,
   "metadata": {},
   "outputs": [
    {
     "data": {
      "text/html": [
       "<style type=\"text/css\">\n",
       "</style>\n",
       "<table id=\"T_e226d_\">\n",
       "  <thead>\n",
       "    <tr>\n",
       "      <th class=\"index_name level0\" >Model:</th>\n",
       "      <th class=\"col_heading level0 col0\" colspan=\"2\">Decision Tree</th>\n",
       "      <th class=\"col_heading level0 col2\" colspan=\"2\">Regression</th>\n",
       "    </tr>\n",
       "    <tr>\n",
       "      <th class=\"index_name level1\" >Predicted:</th>\n",
       "      <th class=\"col_heading level1 col0\" >Tumour</th>\n",
       "      <th class=\"col_heading level1 col1\" >Non-Tumour</th>\n",
       "      <th class=\"col_heading level1 col2\" >Tumour</th>\n",
       "      <th class=\"col_heading level1 col3\" >Non-Tumour</th>\n",
       "    </tr>\n",
       "    <tr>\n",
       "      <th class=\"index_name level0\" >Actual Label:</th>\n",
       "      <th class=\"blank\" ></th>\n",
       "      <th class=\"blank\" ></th>\n",
       "      <th class=\"blank\" ></th>\n",
       "      <th class=\"blank\" ></th>\n",
       "    </tr>\n",
       "  </thead>\n",
       "  <tbody>\n",
       "    <tr>\n",
       "      <th id=\"T_e226d_level0_row0\" class=\"row_heading level0 row0\" >Tumor (Positive)</th>\n",
       "      <td id=\"T_e226d_row0_col0\" class=\"data row0 col0\" >38</td>\n",
       "      <td id=\"T_e226d_row0_col1\" class=\"data row0 col1\" >2</td>\n",
       "      <td id=\"T_e226d_row0_col2\" class=\"data row0 col2\" >18</td>\n",
       "      <td id=\"T_e226d_row0_col3\" class=\"data row0 col3\" >22</td>\n",
       "    </tr>\n",
       "    <tr>\n",
       "      <th id=\"T_e226d_level0_row1\" class=\"row_heading level0 row1\" >Non-Tumour (Negative)</th>\n",
       "      <td id=\"T_e226d_row1_col0\" class=\"data row1 col0\" >19</td>\n",
       "      <td id=\"T_e226d_row1_col1\" class=\"data row1 col1\" >439</td>\n",
       "      <td id=\"T_e226d_row1_col2\" class=\"data row1 col2\" >6</td>\n",
       "      <td id=\"T_e226d_row1_col3\" class=\"data row1 col3\" >452</td>\n",
       "    </tr>\n",
       "  </tbody>\n",
       "</table>\n"
      ],
      "text/plain": [
       "<pandas.io.formats.style.Styler at 0x7f8466134b80>"
      ]
     },
     "execution_count": 161,
     "metadata": {},
     "output_type": "execute_result"
    }
   ],
   "source": [
    "s = df.style.format('{:.0f}').hide_columns([('Random', 'Tumour'), ('Random', 'Non-Tumour')])\n",
    "s"
   ]
  },
  {
   "cell_type": "markdown",
   "metadata": {},
   "source": [
    "## Methods to Add Styles\n",
    "\n",
    "There are **3 primary methods of adding custom CSS styles to [Styler][styler]**:\n",
    "\n",
    "- **Using [.set_table_styles()][table]** to control broader areas of the table with specified internal CSS. Although table styles allow the flexibility to add CSS selectors and properties controlling all individual parts of the table, they are unwieldy for individual cell specifications. Also, note that table styles cannot be exported to Excel.  \n",
    "- **Using [.set_td_classes()][td_class]** to directly link either external CSS classes to your data cells or link the internal CSS classes created by [.set_table_styles()][table]. These cannot be used on column header rows or indexes, and also won't export to Excel. \n",
    "- **Using the [.apply()][apply] and [.applymap()][applymap] functions** to add direct internal CSS to specific data cells. These cannot be used on column header rows or indexes, but only these methods add styles that will export to Excel. These methods work in a similar way to [DataFrame.apply()][dfapply] and [DataFrame.applymap()][dfapplymap].\n",
    "\n",
    "Next we cover the advantages and limitations of each of the above methods.\n",
    "\n",
    "[table]: ../reference/api/pandas.io.formats.style.Styler.set_table_styles.html#pandas.io.formats.style.Styler.set_table_styles\n",
    "[styler]: ../reference/api/pandas.io.formats.style.Styler.html#pandas.io.formats.style.Styler\n",
    "[td_class]: ../reference/api/pandas.io.formats.style.Styler.set_td_classes.html#pandas.io.formats.style.Styler.set_td_classes\n",
    "[apply]: ../reference/api/pandas.io.formats.style.Styler.apply.html#pandas.io.formats.style.Styler.apply\n",
    "[applymap]: ../reference/api/pandas.io.formats.style.Styler.applymap.html#pandas.io.formats.style.Styler.applymap\n",
    "[dfapply]: ../reference/api/pandas.DataFrame.apply.html#pandas.DataFrame.apply\n",
    "[dfapplymap]: ../reference/api/pandas.DataFrame.applymap.html#pandas.DataFrame.applymap"
   ]
  },
  {
   "cell_type": "markdown",
   "metadata": {},
   "source": [
    "## Using Table Styles\n",
    "\n",
    "Table styles are flexible enough to control all individual parts of the table, including column headers and indexes. \n",
    "However, they can be unwieldy to type for individual data cells or for any kind of conditional formatting, so we recommend that table styles are used for broad styling, such as rows or columns at a time.\n",
    "\n",
    "Table styles are also used to control features which can apply to the whole table at once such as greating a generic hover functionality. This `:hover` pseudo-selectors, as well as others, can only be used this way.\n",
    "\n",
    "CSS style sheets are typically composed of selectors, e.g. element ids or css classes, and attribute value pairs:\n",
    "\n",
    "```\n",
    "tr:hover {\n",
    "  background-color: #ffff99;\n",
    "}\n",
    "```\n",
    "\n",
    "The necessary format to pass styles to [.set_table_styles()][table] is as a list of dicts, each with a CSS-selector tag and CSS-properties. Properties can either be a list of 2-tuples, or a regular CSS-string For example:\n",
    "\n",
    "[table]: ../reference/api/pandas.io.formats.style.Styler.set_table_styles.html#pandas.io.formats.style.Styler.set_table_styles"
   ]
  },
  {
   "cell_type": "code",
   "execution_count": null,
   "metadata": {},
   "outputs": [],
   "source": [
    "hover_style = {\n",
    "    'selector': \"tr:hover\", \n",
    "    'props': [(\"background-color\", \"#ffff99\")]\n",
    "}\n",
    "header_style = {\n",
    "    'selector': \"th\", \n",
    "    'props': 'font-size: 115%; text-align: center; color: #e83e8c;'\n",
    "}\n",
    "df.style.format(\"{:,.0f}\").set_table_styles([hover_style, header_style])"
   ]
  },
  {
   "cell_type": "markdown",
   "metadata": {},
   "source": [
    "Table styles allows for controlling specific rows and columns by their integer index, for example"
   ]
  },
  {
   "cell_type": "code",
   "execution_count": null,
   "metadata": {},
   "outputs": [],
   "source": [
    "df.style.format(\"{:,.0f}\").set_table_styles([hover_style, header_style, {\n",
    "    'selector': 'th.level1',\n",
    "    'props': 'color: darkblue;'\n",
    "}])"
   ]
  },
  {
   "cell_type": "markdown",
   "metadata": {},
   "source": [
    "As a convenience method (*since version 1.2.0*) we can also pass a **dict** to [.set_table_styles()][table] which contains row or column keys. Behind the scenes Styler just indexes the keys and add relevant `.col` or `.row` classes as necessary to the CSS selectors.\n",
    "\n",
    "Table styles can be chained provided multiple methods don't *overwrite*.\n",
    "\n",
    "[table]: ../reference/api/pandas.io.formats.style.Styler.set_table_styles.html#pandas.io.formats.style.Styler.set_table_styles"
   ]
  },
  {
   "cell_type": "code",
   "execution_count": null,
   "metadata": {},
   "outputs": [],
   "source": [
    "s = df.style.format(\"{:,.0f}\")\\\n",
    "  .set_table_styles([hover_style, header_style, {\n",
    "    'selector': 'th.level1',\n",
    "    'props': 'color: darkblue;'}])\\\n",
    "  .set_table_styles({\n",
    "    'Employees': [{\n",
    "        'selector': 'td',\n",
    "        'props': 'font-weight: bold;'}]\n",
    "    }, axis=0, overwrite=False)\\\n",
    "  .set_table_styles({\n",
    "    (20, 'Mar'): [{\n",
    "        'selector': '',\n",
    "        'props': 'background-color: darkgrey; color: white;'}]\n",
    "    }, axis=1, overwrite=False)\n",
    "s"
   ]
  },
  {
   "cell_type": "markdown",
   "metadata": {},
   "source": [
    "## Setting Classes and Linking to External CSS\n",
    "\n",
    "*New in version 1.2.0*\n",
    "\n",
    "If you have designed a website then it is likely you will already have an external CSS file that controls the styling of table and cell objects within your website. You may want to use these native files rather than duplicate all the CSS in python.\n",
    "\n",
    "For example, suppose we have an external CSS which controls table properties and has some additional classes to style individual elements (*here we manually add one to the HTML of this notebook page for demonstration*):"
   ]
  },
  {
   "cell_type": "code",
   "execution_count": null,
   "metadata": {},
   "outputs": [],
   "source": [
    "# from IPython.display import HTML\n",
    "# style = \\\n",
    "# \"<style>\"\\\n",
    "# \".table-cls {width: 100%;}\"\\\n",
    "# \".cls-invert {background-color: darkgrey; color: white;}\"\\\n",
    "# \".cls-bold {font-weight: bold; font-size: 120%;}\"\\\n",
    "# \"</style>\"\n",
    "# HTML(style)"
   ]
  },
  {
   "cell_type": "markdown",
   "metadata": {},
   "source": [
    "<style>\n",
    "    .table-cls {width: 100%; border: 1px solid red;}\n",
    "    .nbinput .prompt,\n",
    "    .nboutput .prompt {\n",
    "        display: none;\n",
    "    }\n",
    "</style>    "
   ]
  },
  {
   "cell_type": "markdown",
   "metadata": {},
   "source": [
    "At a minimum we can add a class attribute to our `<table>` element, which will connect with the external CSS, and in this case change the width of the table."
   ]
  },
  {
   "cell_type": "code",
   "execution_count": null,
   "metadata": {},
   "outputs": [],
   "source": [
    "s.set_table_attributes('class=\"table-cls\"')"
   ]
  },
  {
   "cell_type": "markdown",
   "metadata": {},
   "source": [
    "### Data Cell CSS Classes\n",
    "\n",
    "The [.set_td_classes()][tdclass] method accepts a DataFrame with matching indices and columns to the underlying [Styler][styler]'s DataFrame. That DataFrame will contain strings as css-classes to add to individual data cells: the `<td>` elements of the `<table>`.\n",
    "\n",
    "[tdclass]: ../reference/api/pandas.io.formats.style.Styler.set_td_classes.html#pandas.io.formats.style.Styler.set_td_classes\n",
    "[styler]: ../reference/api/pandas.io.formats.style.Styler.html#pandas.io.formats.style.Styler"
   ]
  },
  {
   "cell_type": "code",
   "execution_count": null,
   "metadata": {},
   "outputs": [],
   "source": [
    "df = pd.DataFrame(np.random.randn(5,5), columns=[f'Trial {x}' for x in range(5)])\n",
    "df.iloc[3,4], df.iloc[4,3] = np.nan, np.nan\n",
    "df.style.format('{:,.3f}')"
   ]
  },
  {
   "cell_type": "code",
   "execution_count": null,
   "metadata": {},
   "outputs": [],
   "source": [
    "cls_inv = pd.DataFrame('', index=df.index, columns=df.columns)\n",
    "cls_bold = pd.DataFrame('', index=df.index, columns=df.columns)\n",
    "cls_inv.iloc[0:2, 0:2] = 'cls-invert '\n",
    "cls_bold.iloc[1:3, 1:3] = 'cls-bold '\n",
    "df.style.format('{:,.3f}').set_td_classes(cls_inv + cls_bold)"
   ]
  },
  {
   "cell_type": "markdown",
   "metadata": {},
   "source": [
    "It is possible for this to be an entirely internal CSS solution by defining the class within table styles."
   ]
  },
  {
   "cell_type": "code",
   "execution_count": null,
   "metadata": {},
   "outputs": [],
   "source": [
    "df.style.format('{:,.3f}')\\\n",
    "  .set_table_styles([\n",
    "    {'selector': '.cls-invert',\n",
    "     'props': [('color', 'white'), ('background-color', '#e83e8c')]}])\\\n",
    "  .set_td_classes(cls_inv)"
   ]
  },
  {
   "cell_type": "code",
   "execution_count": null,
   "metadata": {},
   "outputs": [],
   "source": []
  },
  {
   "cell_type": "code",
   "execution_count": null,
   "metadata": {},
   "outputs": [],
   "source": []
  },
  {
   "cell_type": "code",
   "execution_count": null,
   "metadata": {},
   "outputs": [],
   "source": []
  },
  {
   "cell_type": "code",
   "execution_count": null,
   "metadata": {},
   "outputs": [],
   "source": []
  },
  {
   "cell_type": "markdown",
   "metadata": {},
   "source": [
    "The **advantage** of linking to external CSS is that it can be applied very easily. One can build a DataFrame of (multiple) CSS classes to add to each cell dynamically using traditional `DataFrame.apply` and `DataFrame.applymap` methods, or otherwise, and then add those to the Styler. It will integrate with your website's existing CSS styling.\n",
    "\n",
    "The **disadvantage** of this approach is that it is not easy to transmit files standalone. For example the external CSS must be included or the styling will simply be lost. It is also, as this example shows, not well suited (at a table level) for Jupyter Notebooks. Also this method cannot be used for exporting to Excel, for example, since the external CSS cannot be referenced either by the exporters or by Excel itself."
   ]
  },
  {
   "cell_type": "code",
   "execution_count": null,
   "metadata": {},
   "outputs": [],
   "source": [
    "df.style.set_table_styles({\n",
    "    'A': [{'selector': '',\n",
    "           'props': [('color', 'red')]}],\n",
    "    'B': [{'selector': 'td',\n",
    "           'props': [('color', 'blue')]}]\n",
    "}, axis=0)"
   ]
  },
  {
   "cell_type": "code",
   "execution_count": null,
   "metadata": {},
   "outputs": [],
   "source": [
    "df.style.set_table_styles({\n",
    "    3: [{'selector': 'td',\n",
    "           'props': [('color', 'green')]}]\n",
    "}, axis=1)"
   ]
  },
  {
   "cell_type": "markdown",
   "metadata": {},
   "source": [
    "We can also chain all of the above by setting the `overwrite` argument to `False` so that it preserves previous settings."
   ]
  },
  {
   "cell_type": "code",
   "execution_count": null,
   "metadata": {},
   "outputs": [],
   "source": [
    "from pandas.io.formats.style import Styler\n",
    "s = Styler(df, cell_ids=False, uuid_len=0).\\\n",
    "    set_table_styles(styles).\\\n",
    "    set_table_styles({\n",
    "        'A': [{'selector': '',\n",
    "               'props': [('color', 'red')]}],\n",
    "        'B': [{'selector': 'td',\n",
    "               'props': [('color', 'blue')]}]\n",
    "    }, axis=0, overwrite=False).\\\n",
    "    set_table_styles({\n",
    "        3: [{'selector': 'td',\n",
    "             'props': [('color', 'green')]}]\n",
    "    }, axis=1, overwrite=False)\n",
    "s"
   ]
  },
  {
   "cell_type": "markdown",
   "metadata": {},
   "source": [
    "By using these `table_styles` and the additional `Styler` arguments to optimize the HTML we have compressed these styles to only a few lines withing the \\<style\\> tags and none of the \\<td\\> cells require any `id` attributes.  "
   ]
  },
  {
   "cell_type": "code",
   "execution_count": null,
   "metadata": {},
   "outputs": [],
   "source": [
    "s.render().split('\\n')[:16]"
   ]
  },
  {
   "cell_type": "markdown",
   "metadata": {},
   "source": [
    "The **advantage** of table styles is obviously the reduced HTML that it can create and the relative ease with which more general parts of the table can be quickly styled, e.g. by applying a generic hover, rather than having to apply a hover to each cell individually. Rows and columns as individual objects can only be styled in this way.\n",
    "\n",
    "The **disadvantage** of being restricted solely to table styles is that you have very limited ability to target and style individual cells based on dynamic criteria. For this, one must use either of the other two methods. Also table level styles cannot be exported to Excel: to format cells for Excel output you must use the Styler Functions method below."
   ]
  },
  {
   "cell_type": "markdown",
   "metadata": {},
   "source": [
    "### Styler Functions\n",
    "\n",
    "Thirdly we can use the method to pass your style functions into one of the following methods:\n",
    "\n",
    "- ``Styler.applymap``: elementwise\n",
    "- ``Styler.apply``: column-/row-/table-wise\n",
    "\n",
    "Both of those methods take a function (and some other keyword arguments) and applies your function to the DataFrame in a certain way.\n",
    "`Styler.applymap` works through the DataFrame elementwise.\n",
    "`Styler.apply` passes each column or row into your DataFrame one-at-a-time or the entire table at once, depending on the `axis` keyword argument.\n",
    "For columnwise use `axis=0`, rowwise use `axis=1`, and for the entire table at once use `axis=None`.\n",
    "\n",
    "For `Styler.applymap` your function should take a scalar and return a single string with the CSS attribute-value pair.\n",
    "\n",
    "For `Styler.apply` your function should take a Series or DataFrame (depending on the axis parameter), and return a Series or DataFrame with an identical shape where each value is a string with a CSS attribute-value pair.\n",
    "\n",
    "The **advantage** of this method is that there is full granular control and the output is isolated and easily transferrable, especially in Jupyter Notebooks.\n",
    "\n",
    "The **disadvantage** is that the HTML/CSS required to produce this needs to be directly generated from the Python code and it can lead to inefficient data transfer for large tables.\n",
    "\n",
    "Let's see some examples."
   ]
  },
  {
   "cell_type": "markdown",
   "metadata": {},
   "source": [
    "Let's write a simple style function that will color negative numbers red and positive numbers black."
   ]
  },
  {
   "cell_type": "code",
   "execution_count": null,
   "metadata": {},
   "outputs": [],
   "source": [
    "def color_negative_red(val):\n",
    "    \"\"\"\n",
    "    Takes a scalar and returns a string with\n",
    "    the css property `'color: red'` for negative\n",
    "    strings, black otherwise.\n",
    "    \"\"\"\n",
    "    color = 'red' if val < 0 else 'black'\n",
    "    return 'color: %s' % color"
   ]
  },
  {
   "cell_type": "markdown",
   "metadata": {},
   "source": [
    "In this case, the cell's style depends only on its own value.\n",
    "That means we should use the `Styler.applymap` method which works elementwise."
   ]
  },
  {
   "cell_type": "code",
   "execution_count": null,
   "metadata": {},
   "outputs": [],
   "source": [
    "s = df.style.applymap(color_negative_red)\n",
    "s"
   ]
  },
  {
   "cell_type": "markdown",
   "metadata": {},
   "source": [
    "Notice the similarity with the standard `df.applymap`, which operates on DataFrames elementwise. We want you to be able to reuse your existing knowledge of how to interact with DataFrames.\n",
    "\n",
    "Notice also that our function returned a string containing the CSS attribute and value, separated by a colon just like in a `<style>` tag. This will be a common theme.\n",
    "\n",
    "Finally, the input shapes matched. `Styler.applymap` calls the function on each scalar input, and the function returns a scalar output."
   ]
  },
  {
   "cell_type": "markdown",
   "metadata": {},
   "source": [
    "Now suppose you wanted to highlight the maximum value in each column.\n",
    "We can't use `.applymap` anymore since that operated elementwise.\n",
    "Instead, we'll turn to `.apply` which operates columnwise (or rowwise using the `axis` keyword). Later on we'll see that something like `highlight_max` is already defined on `Styler` so you wouldn't need to write this yourself."
   ]
  },
  {
   "cell_type": "code",
   "execution_count": null,
   "metadata": {},
   "outputs": [],
   "source": [
    "def highlight_max(s):\n",
    "    '''\n",
    "    highlight the maximum in a Series yellow.\n",
    "    '''\n",
    "    is_max = s == s.max()\n",
    "    return ['background-color: yellow' if v else '' for v in is_max]"
   ]
  },
  {
   "cell_type": "code",
   "execution_count": null,
   "metadata": {},
   "outputs": [],
   "source": [
    "df.style.apply(highlight_max)"
   ]
  },
  {
   "cell_type": "markdown",
   "metadata": {},
   "source": [
    "In this case the input is a `Series`, one column at a time.\n",
    "Notice that the output shape of `highlight_max` matches the input shape, an array with `len(s)` items."
   ]
  },
  {
   "cell_type": "markdown",
   "metadata": {},
   "source": [
    "A common use case is also to highlight values based on comparison between columns. Suppose we wish to highlight those cells in columns 'B' and 'C' which are lower than respective values in 'E' then we can write a comparator function. (You can read a little more below in 'Finer Control: Slicing')"
   ]
  },
  {
   "cell_type": "code",
   "execution_count": null,
   "metadata": {},
   "outputs": [],
   "source": [
    "def compare_col(s, comparator=None):\n",
    "    attr = 'background-color: #00BFFF;'\n",
    "    return np.where(s < comparator, attr, '')"
   ]
  },
  {
   "cell_type": "code",
   "execution_count": null,
   "metadata": {},
   "outputs": [],
   "source": [
    "df.style.apply(compare_col, subset=['B', 'C'], comparator=df['E'])"
   ]
  },
  {
   "cell_type": "markdown",
   "metadata": {},
   "source": [
    "We encourage you to use method chains to build up a style piecewise, before finally rending at the end of the chain. Note the ordering of application will affect styles that overlap."
   ]
  },
  {
   "cell_type": "code",
   "execution_count": null,
   "metadata": {},
   "outputs": [],
   "source": [
    "df.style.\\\n",
    "    apply(compare_col, subset=['B', 'C'], comparator=df['E']).\\\n",
    "    applymap(color_negative_red).\\\n",
    "    apply(highlight_max)"
   ]
  },
  {
   "cell_type": "markdown",
   "metadata": {},
   "source": [
    "Above we used `Styler.apply` to pass in each column one at a time.\n",
    "\n",
    "<span style=\"background-color: #DEDEBE\">*Debugging Tip*: If you're having trouble writing your style function, try just passing it into <code style=\"background-color: #DEDEBE\">DataFrame.apply</code>. Internally, <code style=\"background-color: #DEDEBE\">Styler.apply</code> uses <code style=\"background-color: #DEDEBE\">DataFrame.apply</code> so the result should be the same.</span>\n",
    "\n",
    "What if you wanted to highlight just the maximum value in the entire table?\n",
    "Use `.apply(function, axis=None)` to indicate that your function wants the entire table, not one column or row at a time. Let's try that next.\n",
    "\n",
    "We'll rewrite our `highlight-max` to handle either Series (from `.apply(axis=0 or 1)`) or DataFrames (from `.apply(axis=None)`). We'll also allow the color to be adjustable, to demonstrate that `.apply`, and `.applymap` pass along keyword arguments."
   ]
  },
  {
   "cell_type": "code",
   "execution_count": null,
   "metadata": {},
   "outputs": [],
   "source": [
    "def highlight_max(data, color='yellow'):\n",
    "    '''\n",
    "    highlight the maximum in a Series or DataFrame\n",
    "    '''\n",
    "    attr = 'background-color: {}'.format(color)\n",
    "    if data.ndim == 1:  # Series from .apply(axis=0) or axis=1\n",
    "        is_max = data == data.max()\n",
    "        return [attr if v else '' for v in is_max]\n",
    "    else:  # from .apply(axis=None)\n",
    "        is_max = data == data.max().max()\n",
    "        return pd.DataFrame(np.where(is_max, attr, ''),\n",
    "                            index=data.index, columns=data.columns)"
   ]
  },
  {
   "cell_type": "markdown",
   "metadata": {},
   "source": [
    "When using ``Styler.apply(func, axis=None)``, the function must return a DataFrame with the same index and column labels."
   ]
  },
  {
   "cell_type": "code",
   "execution_count": null,
   "metadata": {},
   "outputs": [],
   "source": [
    "s = df.style.apply(highlight_max, color='darkorange', axis=None)\n",
    "s"
   ]
  },
  {
   "cell_type": "markdown",
   "metadata": {},
   "source": [
    "### Building Styles Summary\n",
    "\n",
    "Style functions should return strings with one or more CSS `attribute: value` delimited by semicolons. Use\n",
    "\n",
    "- `Styler.applymap(func)` for elementwise styles\n",
    "- `Styler.apply(func, axis=0)` for columnwise styles\n",
    "- `Styler.apply(func, axis=1)` for rowwise styles\n",
    "- `Styler.apply(func, axis=None)` for tablewise styles\n",
    "\n",
    "And crucially the input and output shapes of `func` must match. If `x` is the input then ``func(x).shape == x.shape``."
   ]
  },
  {
   "cell_type": "markdown",
   "metadata": {},
   "source": [
    "## Optimization\n",
    "\n",
    "The HTML ...."
   ]
  },
  {
   "cell_type": "markdown",
   "metadata": {},
   "source": [
    "## Tooltips\n",
    "\n",
    "*New in version 1.3.0*\n",
    "\n",
    "You can now add tooltips in the same way you can add external CSS classes to datacells by providing a string based DataFrame with intersecting indices and columns."
   ]
  },
  {
   "cell_type": "code",
   "execution_count": null,
   "metadata": {},
   "outputs": [],
   "source": [
    "tt = pd.DataFrame(data=[[None, 'No Data', None], \n",
    "                     [None, None, 'Missing Data'], \n",
    "                     ['Maximum value across entire DataFrame', None, None]], \n",
    "                  index=[0, 3, 9], \n",
    "                  columns=['A', 'C', 'D'])\n",
    "s.set_tooltips(tt)"
   ]
  },
  {
   "cell_type": "markdown",
   "metadata": {},
   "source": [
    "The tooltips are added with a default CSS styling, however, you have full control of the tooltips in the following way. The name of the class can be integrated with your existing website's CSS so you do not need to set any properties within Python if you have the external CSS files. "
   ]
  },
  {
   "cell_type": "code",
   "execution_count": null,
   "metadata": {
    "pycharm": {
     "name": "#%%\n"
    }
   },
   "outputs": [],
   "source": [
    "s.set_tooltips_class(name='pd-tt', properties=[\n",
    "    ('visibility', 'hidden'),\n",
    "    ('position', 'absolute'),\n",
    "    ('z-index', '1'),\n",
    "    ('background-color', 'blue'),\n",
    "    ('color', 'white'),\n",
    "    ('font-size', '1.5em'),\n",
    "    ('transform', 'translate(3px, -11px)'),\n",
    "    ('padding', '0.5em'),\n",
    "    ('border', '1px solid red'),\n",
    "    ('border-radius', '0.5em')\n",
    "])"
   ]
  },
  {
   "cell_type": "markdown",
   "metadata": {},
   "source": [
    "## Finer control: slicing"
   ]
  },
  {
   "cell_type": "markdown",
   "metadata": {},
   "source": [
    "Both `Styler.apply`, and `Styler.applymap` accept a `subset` keyword.\n",
    "This allows you to apply styles to specific rows or columns, without having to code that logic into your `style` function.\n",
    "\n",
    "The value passed to `subset` behaves similar to slicing a DataFrame.\n",
    "\n",
    "- A scalar is treated as a column label\n",
    "- A list (or series or numpy array)\n",
    "- A tuple is treated as `(row_indexer, column_indexer)`\n",
    "\n",
    "Consider using `pd.IndexSlice` to construct the tuple for the last one."
   ]
  },
  {
   "cell_type": "code",
   "execution_count": null,
   "metadata": {},
   "outputs": [],
   "source": [
    "df.style.apply(highlight_max, subset=['B', 'C', 'D'])"
   ]
  },
  {
   "cell_type": "markdown",
   "metadata": {},
   "source": [
    "For row and column slicing, any valid indexer to `.loc` will work."
   ]
  },
  {
   "cell_type": "code",
   "execution_count": null,
   "metadata": {},
   "outputs": [],
   "source": [
    "df.style.applymap(color_negative_red,\n",
    "                  subset=pd.IndexSlice[2:5, ['B', 'D']])"
   ]
  },
  {
   "cell_type": "markdown",
   "metadata": {},
   "source": [
    "Only label-based slicing is supported right now, not positional.\n",
    "\n",
    "If your style function uses a `subset` or `axis` keyword argument, consider wrapping your function in a `functools.partial`, partialing out that keyword.\n",
    "\n",
    "```python\n",
    "my_func2 = functools.partial(my_func, subset=42)\n",
    "```"
   ]
  },
  {
   "cell_type": "markdown",
   "metadata": {},
   "source": [
    "## Finer Control: Display Values\n",
    "\n",
    "We distinguish the *display* value from the *actual* value in `Styler`.\n",
    "To control the display value, the text is printed in each cell, use `Styler.format`. Cells can be formatted according to a [format spec string](https://docs.python.org/3/library/string.html#format-specification-mini-language) or a callable that takes a single value and returns a string."
   ]
  },
  {
   "cell_type": "code",
   "execution_count": null,
   "metadata": {},
   "outputs": [],
   "source": [
    "df.style.format(\"{:.2%}\")"
   ]
  },
  {
   "cell_type": "markdown",
   "metadata": {},
   "source": [
    "Use a dictionary to format specific columns."
   ]
  },
  {
   "cell_type": "code",
   "execution_count": null,
   "metadata": {},
   "outputs": [],
   "source": [
    "df.style.format({'B': \"{:0<4.0f}\", 'D': '{:+.2f}'})"
   ]
  },
  {
   "cell_type": "markdown",
   "metadata": {},
   "source": [
    "Or pass in a callable (or dictionary of callables) for more flexible handling."
   ]
  },
  {
   "cell_type": "code",
   "execution_count": null,
   "metadata": {},
   "outputs": [],
   "source": [
    "df.style.format({\"B\": lambda x: \"±{:.2f}\".format(abs(x))})"
   ]
  },
  {
   "cell_type": "markdown",
   "metadata": {},
   "source": [
    "You can format the text displayed for missing values by `na_rep`."
   ]
  },
  {
   "cell_type": "code",
   "execution_count": null,
   "metadata": {},
   "outputs": [],
   "source": [
    "df.style.format(\"{:.2%}\", na_rep=\"-\")"
   ]
  },
  {
   "cell_type": "markdown",
   "metadata": {},
   "source": [
    "These formatting techniques can be used in combination with styling."
   ]
  },
  {
   "cell_type": "code",
   "execution_count": null,
   "metadata": {},
   "outputs": [],
   "source": [
    "df.style.highlight_max().format(None, na_rep=\"-\")"
   ]
  },
  {
   "cell_type": "markdown",
   "metadata": {},
   "source": [
    "## Builtin styles"
   ]
  },
  {
   "cell_type": "markdown",
   "metadata": {},
   "source": [
    "Finally, we expect certain styling functions to be common enough that we've included a few \"built-in\" to the `Styler`, so you don't have to write them yourself."
   ]
  },
  {
   "cell_type": "code",
   "execution_count": null,
   "metadata": {},
   "outputs": [],
   "source": [
    "df.style.highlight_null(null_color='red')"
   ]
  },
  {
   "cell_type": "markdown",
   "metadata": {},
   "source": [
    "You can create \"heatmaps\" with the `background_gradient` method. These require matplotlib, and we'll use [Seaborn](https://stanford.edu/~mwaskom/software/seaborn/) to get a nice colormap."
   ]
  },
  {
   "cell_type": "code",
   "execution_count": null,
   "metadata": {},
   "outputs": [],
   "source": [
    "import seaborn as sns\n",
    "\n",
    "cm = sns.light_palette(\"green\", as_cmap=True)\n",
    "\n",
    "s = df.style.background_gradient(cmap=cm)\n",
    "s"
   ]
  },
  {
   "cell_type": "markdown",
   "metadata": {},
   "source": [
    "`Styler.background_gradient` takes the keyword arguments `low` and `high`. Roughly speaking these extend the range of your data by `low` and `high` percent so that when we convert the colors, the colormap's entire range isn't used. This is useful so that you can actually read the text still."
   ]
  },
  {
   "cell_type": "code",
   "execution_count": null,
   "metadata": {},
   "outputs": [],
   "source": [
    "# Uses the full color range\n",
    "df.loc[:4].style.background_gradient(cmap='viridis')"
   ]
  },
  {
   "cell_type": "code",
   "execution_count": null,
   "metadata": {},
   "outputs": [],
   "source": [
    "# Compress the color range\n",
    "(df.loc[:4]\n",
    "    .style\n",
    "    .background_gradient(cmap='viridis', low=.5, high=0)\n",
    "    .highlight_null('red'))"
   ]
  },
  {
   "cell_type": "markdown",
   "metadata": {},
   "source": [
    "There's also `.highlight_min` and `.highlight_max`."
   ]
  },
  {
   "cell_type": "code",
   "execution_count": null,
   "metadata": {},
   "outputs": [],
   "source": [
    "df.style.highlight_max(axis=0)"
   ]
  },
  {
   "cell_type": "markdown",
   "metadata": {},
   "source": [
    "Use `Styler.set_properties` when the style doesn't actually depend on the values."
   ]
  },
  {
   "cell_type": "code",
   "execution_count": null,
   "metadata": {},
   "outputs": [],
   "source": [
    "df.style.set_properties(**{'background-color': 'black',\n",
    "                           'color': 'lawngreen',\n",
    "                           'border-color': 'white'})"
   ]
  },
  {
   "cell_type": "markdown",
   "metadata": {},
   "source": [
    "### Bar charts"
   ]
  },
  {
   "cell_type": "markdown",
   "metadata": {},
   "source": [
    "You can include \"bar charts\" in your DataFrame."
   ]
  },
  {
   "cell_type": "code",
   "execution_count": null,
   "metadata": {},
   "outputs": [],
   "source": [
    "df.style.bar(subset=['A', 'B'], color='#d65f5f')"
   ]
  },
  {
   "cell_type": "markdown",
   "metadata": {},
   "source": [
    "New in version 0.20.0 is the ability to customize further the bar chart: You can now have the `df.style.bar` be centered on zero or midpoint value (in addition to the already existing way of having the min value at the left side of the cell), and you can pass a list of `[color_negative, color_positive]`.\n",
    "\n",
    "Here's how you can change the above with the new `align='mid'` option:"
   ]
  },
  {
   "cell_type": "code",
   "execution_count": null,
   "metadata": {},
   "outputs": [],
   "source": [
    "df.style.bar(subset=['A', 'B'], align='mid', color=['#d65f5f', '#5fba7d'])"
   ]
  },
  {
   "cell_type": "markdown",
   "metadata": {},
   "source": [
    "The following example aims to give a highlight of the behavior of the new align options:"
   ]
  },
  {
   "cell_type": "code",
   "execution_count": null,
   "metadata": {},
   "outputs": [],
   "source": [
    "import pandas as pd\n",
    "from IPython.display import HTML\n",
    "\n",
    "# Test series\n",
    "test1 = pd.Series([-100,-60,-30,-20], name='All Negative')\n",
    "test2 = pd.Series([10,20,50,100], name='All Positive')\n",
    "test3 = pd.Series([-10,-5,0,90], name='Both Pos and Neg')\n",
    "\n",
    "head = \"\"\"\n",
    "<table>\n",
    "    <thead>\n",
    "        <th>Align</th>\n",
    "        <th>All Negative</th>\n",
    "        <th>All Positive</th>\n",
    "        <th>Both Neg and Pos</th>\n",
    "    </thead>\n",
    "    </tbody>\n",
    "\n",
    "\"\"\"\n",
    "\n",
    "aligns = ['left','zero','mid']\n",
    "for align in aligns:\n",
    "    row = \"<tr><th>{}</th>\".format(align)\n",
    "    for series in [test1,test2,test3]:\n",
    "        s = series.copy()\n",
    "        s.name=''\n",
    "        row += \"<td>{}</td>\".format(s.to_frame().style.bar(align=align, \n",
    "                                                           color=['#d65f5f', '#5fba7d'], \n",
    "                                                           width=100).render()) #testn['width']\n",
    "    row += '</tr>'\n",
    "    head += row\n",
    "    \n",
    "head+= \"\"\"\n",
    "</tbody>\n",
    "</table>\"\"\"\n",
    "        \n",
    "\n",
    "HTML(head)"
   ]
  },
  {
   "cell_type": "markdown",
   "metadata": {},
   "source": [
    "## Sharing styles"
   ]
  },
  {
   "cell_type": "markdown",
   "metadata": {},
   "source": [
    "Say you have a lovely style built up for a DataFrame, and now you want to apply the same style to a second DataFrame. Export the style with `df1.style.export`, and import it on the second DataFrame with `df1.style.set`"
   ]
  },
  {
   "cell_type": "code",
   "execution_count": null,
   "metadata": {},
   "outputs": [],
   "source": [
    "df2 = -df\n",
    "style1 = df.style.applymap(color_negative_red)\n",
    "style1"
   ]
  },
  {
   "cell_type": "code",
   "execution_count": null,
   "metadata": {},
   "outputs": [],
   "source": [
    "style2 = df2.style\n",
    "style2.use(style1.export())\n",
    "style2"
   ]
  },
  {
   "cell_type": "markdown",
   "metadata": {},
   "source": [
    "Notice that you're able to share the styles even though they're data aware. The styles are re-evaluated on the new DataFrame they've been `use`d upon."
   ]
  },
  {
   "cell_type": "markdown",
   "metadata": {},
   "source": [
    "## Other Options\n",
    "\n",
    "You've seen a few methods for data-driven styling.\n",
    "`Styler` also provides a few other options for styles that don't depend on the data.\n",
    "\n",
    "- precision\n",
    "- captions\n",
    "- table-wide styles\n",
    "- missing values representation\n",
    "- hiding the index or columns\n",
    "\n",
    "Each of these can be specified in two ways:\n",
    "\n",
    "- A keyword argument to `Styler.__init__`\n",
    "- A call to one of the `.set_` or `.hide_` methods, e.g. `.set_caption` or `.hide_columns`\n",
    "\n",
    "The best method to use depends on the context. Use the `Styler` constructor when building many styled DataFrames that should all share the same properties. For interactive use, the`.set_` and `.hide_` methods are more convenient."
   ]
  },
  {
   "cell_type": "markdown",
   "metadata": {},
   "source": [
    "### Precision"
   ]
  },
  {
   "cell_type": "markdown",
   "metadata": {},
   "source": [
    "You can control the precision of floats using pandas' regular `display.precision` option."
   ]
  },
  {
   "cell_type": "code",
   "execution_count": null,
   "metadata": {},
   "outputs": [],
   "source": [
    "with pd.option_context('display.precision', 2):\n",
    "    html = (df.style\n",
    "              .applymap(color_negative_red)\n",
    "              .apply(highlight_max))\n",
    "html"
   ]
  },
  {
   "cell_type": "markdown",
   "metadata": {},
   "source": [
    "Or through a `set_precision` method."
   ]
  },
  {
   "cell_type": "code",
   "execution_count": null,
   "metadata": {},
   "outputs": [],
   "source": [
    "df.style\\\n",
    "  .applymap(color_negative_red)\\\n",
    "  .apply(highlight_max)\\\n",
    "  .set_precision(2)"
   ]
  },
  {
   "cell_type": "markdown",
   "metadata": {},
   "source": [
    "Setting the precision only affects the printed number; the full-precision values are always passed to your style functions. You can always use `df.round(2).style` if you'd prefer to round from the start."
   ]
  },
  {
   "cell_type": "markdown",
   "metadata": {},
   "source": [
    "### Captions"
   ]
  },
  {
   "cell_type": "markdown",
   "metadata": {},
   "source": [
    "Regular table captions can be added and, if necessary, controlled with CSS."
   ]
  },
  {
   "cell_type": "code",
   "execution_count": null,
   "metadata": {},
   "outputs": [],
   "source": [
    "df.style.set_caption('Colormaps, with a caption.')\\\n",
    "    .set_table_styles([{\n",
    "        'selector': \"caption\", 'props': [(\"caption-side\", \"bottom\")]\n",
    "    }])\\\n",
    "    .background_gradient(cmap=cm)"
   ]
  },
  {
   "cell_type": "markdown",
   "metadata": {},
   "source": [
    "### Missing values"
   ]
  },
  {
   "cell_type": "markdown",
   "metadata": {},
   "source": [
    "You can control the default missing values representation for the entire table through `set_na_rep` method."
   ]
  },
  {
   "cell_type": "code",
   "execution_count": null,
   "metadata": {},
   "outputs": [],
   "source": [
    "(df.style\n",
    "   .set_na_rep(\"FAIL\")\n",
    "   .format(None, na_rep=\"PASS\", subset=[\"D\"])\n",
    "   .highlight_null(\"yellow\"))"
   ]
  },
  {
   "cell_type": "markdown",
   "metadata": {},
   "source": [
    "### Hiding the Index or Columns"
   ]
  },
  {
   "cell_type": "markdown",
   "metadata": {},
   "source": [
    "The index can be hidden from rendering by calling `Styler.hide_index`. Columns can be hidden from rendering by calling `Styler.hide_columns` and passing in the name of a column, or a slice of columns."
   ]
  },
  {
   "cell_type": "code",
   "execution_count": null,
   "metadata": {},
   "outputs": [],
   "source": [
    "df.style.hide_index()"
   ]
  },
  {
   "cell_type": "code",
   "execution_count": null,
   "metadata": {},
   "outputs": [],
   "source": [
    "df.style.hide_columns(['C','D'])"
   ]
  },
  {
   "cell_type": "markdown",
   "metadata": {},
   "source": []
  },
  {
   "cell_type": "markdown",
   "metadata": {},
   "source": [
    "### Limitations\n",
    "\n",
    "- DataFrame only `(use Series.to_frame().style)`\n",
    "- The index and columns must be unique\n",
    "- No large repr, and performance isn't great; this is intended for summary DataFrames\n",
    "- You can only style the *values*, not the index or columns (except with `table_styles` above)\n",
    "- You can only apply styles, you can't insert new HTML entities\n",
    "\n",
    "Some of these will be addressed in the future.\n",
    "Performance can suffer when adding styles to each cell in a large DataFrame.\n",
    "It is recommended to apply table or column based styles where possible to limit overall HTML length, as well as setting a shorter UUID to avoid unnecessary repeated data transmission. \n"
   ]
  },
  {
   "cell_type": "markdown",
   "metadata": {},
   "source": [
    "### Terms\n",
    "\n",
    "- Style function: a function that's passed into `Styler.apply` or `Styler.applymap` and returns values like `'css attribute: value'`\n",
    "- Builtin style functions: style functions that are methods on `Styler`\n",
    "- table style: a dictionary with the two keys `selector` and `props`. `selector` is the CSS selector that `props` will apply to. `props` is a list of `(attribute, value)` tuples. A list of table styles passed into `Styler`."
   ]
  },
  {
   "cell_type": "markdown",
   "metadata": {},
   "source": [
    "## Fun stuff\n",
    "\n",
    "Here are a few interesting examples.\n",
    "\n",
    "`Styler` interacts pretty well with widgets. If you're viewing this online instead of running the notebook yourself, you're missing out on interactively adjusting the color palette."
   ]
  },
  {
   "cell_type": "code",
   "execution_count": null,
   "metadata": {},
   "outputs": [],
   "source": [
    "from IPython.html import widgets\n",
    "@widgets.interact\n",
    "def f(h_neg=(0, 359, 1), h_pos=(0, 359), s=(0., 99.9), l=(0., 99.9)):\n",
    "    return df.style.background_gradient(\n",
    "        cmap=sns.palettes.diverging_palette(h_neg=h_neg, h_pos=h_pos, s=s, l=l,\n",
    "                                            as_cmap=True)\n",
    "    )"
   ]
  },
  {
   "cell_type": "code",
   "execution_count": null,
   "metadata": {},
   "outputs": [],
   "source": [
    "def magnify():\n",
    "    return [dict(selector=\"th\",\n",
    "                 props=[(\"font-size\", \"4pt\")]),\n",
    "            dict(selector=\"td\",\n",
    "                 props=[('padding', \"0em 0em\")]),\n",
    "            dict(selector=\"th:hover\",\n",
    "                 props=[(\"font-size\", \"12pt\")]),\n",
    "            dict(selector=\"tr:hover td:hover\",\n",
    "                 props=[('max-width', '200px'),\n",
    "                        ('font-size', '12pt')])\n",
    "]"
   ]
  },
  {
   "cell_type": "code",
   "execution_count": null,
   "metadata": {},
   "outputs": [],
   "source": [
    "np.random.seed(25)\n",
    "cmap = cmap=sns.diverging_palette(5, 250, as_cmap=True)\n",
    "bigdf = pd.DataFrame(np.random.randn(20, 25)).cumsum()\n",
    "\n",
    "bigdf.style.background_gradient(cmap, axis=1)\\\n",
    "    .set_properties(**{'max-width': '80px', 'font-size': '1pt'})\\\n",
    "    .set_caption(\"Hover to magnify\")\\\n",
    "    .set_precision(2)\\\n",
    "    .set_table_styles(magnify())"
   ]
  },
  {
   "cell_type": "markdown",
   "metadata": {},
   "source": [
    "## Export to Excel\n",
    "\n",
    "*New in version 0.20.0*\n",
    "\n",
    "<span style=\"color: red\">*Experimental: This is a new feature and still under development. We'll be adding features and possibly making breaking changes in future releases. We'd love to hear your feedback.*</span>\n",
    "\n",
    "Some support is available for exporting styled `DataFrames` to Excel worksheets using the `OpenPyXL` or `XlsxWriter` engines. CSS2.2 properties handled include:\n",
    "\n",
    "- `background-color`\n",
    "- `border-style`, `border-width`, `border-color` and their {`top`, `right`, `bottom`, `left` variants}\n",
    "- `color`\n",
    "- `font-family`\n",
    "- `font-style`\n",
    "- `font-weight`\n",
    "- `text-align`\n",
    "- `text-decoration`\n",
    "- `vertical-align`\n",
    "- `white-space: nowrap`\n",
    "\n",
    "\n",
    "- Only CSS2 named colors and hex colors of the form `#rgb` or `#rrggbb` are currently supported.\n",
    "- The following pseudo CSS properties are also available to set excel specific style properties:\n",
    "    - `number-format`\n",
    "\n",
    "Table level styles are not included in the export to Excel: individual cells must have their properties mapped by the `Styler.apply` and/or `Styler.applymap` methods."
   ]
  },
  {
   "cell_type": "code",
   "execution_count": null,
   "metadata": {},
   "outputs": [],
   "source": [
    "df.style.\\\n",
    "    applymap(color_negative_red).\\\n",
    "    apply(highlight_max).\\\n",
    "    to_excel('styled.xlsx', engine='openpyxl')"
   ]
  },
  {
   "cell_type": "markdown",
   "metadata": {},
   "source": [
    "A screenshot of the output:\n",
    "\n",
    "![Excel spreadsheet with styled DataFrame](../_static/style-excel.png)\n"
   ]
  },
  {
   "cell_type": "markdown",
   "metadata": {},
   "source": [
    "## Extensibility\n",
    "\n",
    "The core of pandas is, and will remain, its \"high-performance, easy-to-use data structures\".\n",
    "With that in mind, we hope that `DataFrame.style` accomplishes two goals\n",
    "\n",
    "- Provide an API that is pleasing to use interactively and is \"good enough\" for many tasks\n",
    "- Provide the foundations for dedicated libraries to build on\n",
    "\n",
    "If you build a great library on top of this, let us know and we'll [link](https://pandas.pydata.org/pandas-docs/stable/ecosystem.html) to it.\n",
    "\n",
    "### Subclassing\n",
    "\n",
    "If the default template doesn't quite suit your needs, you can subclass Styler and extend or override the template.\n",
    "We'll show an example of extending the default template to insert a custom header before each table."
   ]
  },
  {
   "cell_type": "code",
   "execution_count": null,
   "metadata": {},
   "outputs": [],
   "source": [
    "from jinja2 import Environment, ChoiceLoader, FileSystemLoader\n",
    "from IPython.display import HTML\n",
    "from pandas.io.formats.style import Styler"
   ]
  },
  {
   "cell_type": "markdown",
   "metadata": {},
   "source": [
    "We'll use the following template:"
   ]
  },
  {
   "cell_type": "code",
   "execution_count": null,
   "metadata": {},
   "outputs": [],
   "source": [
    "with open(\"templates/myhtml.tpl\") as f:\n",
    "    print(f.read())"
   ]
  },
  {
   "cell_type": "markdown",
   "metadata": {},
   "source": [
    "Now that we've created a template, we need to set up a subclass of ``Styler`` that\n",
    "knows about it."
   ]
  },
  {
   "cell_type": "code",
   "execution_count": null,
   "metadata": {},
   "outputs": [],
   "source": [
    "class MyStyler(Styler):\n",
    "    env = Environment(\n",
    "        loader=ChoiceLoader([\n",
    "            FileSystemLoader(\"templates\"),  # contains ours\n",
    "            Styler.loader,  # the default\n",
    "        ])\n",
    "    )\n",
    "    template = env.get_template(\"myhtml.tpl\")"
   ]
  },
  {
   "cell_type": "markdown",
   "metadata": {},
   "source": [
    "Notice that we include the original loader in our environment's loader.\n",
    "That's because we extend the original template, so the Jinja environment needs\n",
    "to be able to find it.\n",
    "\n",
    "Now we can use that custom styler. It's `__init__` takes a DataFrame."
   ]
  },
  {
   "cell_type": "code",
   "execution_count": null,
   "metadata": {},
   "outputs": [],
   "source": [
    "MyStyler(df)"
   ]
  },
  {
   "cell_type": "markdown",
   "metadata": {},
   "source": [
    "Our custom template accepts a `table_title` keyword. We can provide the value in the `.render` method."
   ]
  },
  {
   "cell_type": "code",
   "execution_count": null,
   "metadata": {},
   "outputs": [],
   "source": [
    "HTML(MyStyler(df).render(table_title=\"Extending Example\"))"
   ]
  },
  {
   "cell_type": "markdown",
   "metadata": {},
   "source": [
    "For convenience, we provide the `Styler.from_custom_template` method that does the same as the custom subclass."
   ]
  },
  {
   "cell_type": "code",
   "execution_count": null,
   "metadata": {},
   "outputs": [],
   "source": [
    "EasyStyler = Styler.from_custom_template(\"templates\", \"myhtml.tpl\")\n",
    "EasyStyler(df)"
   ]
  },
  {
   "cell_type": "markdown",
   "metadata": {},
   "source": [
    "Here's the template structure:"
   ]
  },
  {
   "cell_type": "code",
   "execution_count": null,
   "metadata": {},
   "outputs": [],
   "source": [
    "with open(\"templates/template_structure.html\") as f:\n",
    "    structure = f.read()\n",
    "    \n",
    "HTML(structure)"
   ]
  },
  {
   "cell_type": "markdown",
   "metadata": {},
   "source": [
    "See the template in the [GitHub repo](https://github.com/pandas-dev/pandas) for more details."
   ]
  },
  {
   "cell_type": "code",
   "execution_count": null,
   "metadata": {
    "nbsphinx": "hidden"
   },
   "outputs": [],
   "source": [
    "# Hack to get the same style in the notebook as the\n",
    "# main site. This is hidden in the docs.\n",
    "from IPython.display import HTML\n",
    "with open(\"themes/nature_with_gtoc/static/nature.css_t\") as f:\n",
    "    css = f.read()\n",
    "    \n",
    "HTML('<style>{}</style>'.format(css))"
   ]
  },
  {
   "cell_type": "markdown",
   "metadata": {},
   "source": [
    "## More About CSS and HTML\n",
    "\n",
    "Cascading Style Sheet (CSS) language, which is designed to influence how a browser renders HTML elements, has its own peculiarities. It never reports errors: it just silently ignores them and doesn't render your objects how you intend so can sometimes be frustrating. Here is a very brief primer on how ``Styler`` creates HTML and interacts with CSS, with advice on common pitfalls to avoid."
   ]
  },
  {
   "cell_type": "markdown",
   "metadata": {},
   "source": [
    "## CSS Classes and Ids\n",
    "\n",
    "The precise structure of the CSS `class` attached to each cells is as follows.\n",
    "\n",
    "- Cells with Index and Column names include `index_name` and `level<k>` where `k` is its level in a MultiIndex\n",
    "- Index label cells include\n",
    "  + `row_heading`\n",
    "  + `level<k>` where `k` is the level in a MultiIndex\n",
    "  + `row<m>` where `m` is the numeric position of the row\n",
    "- Column label cells include\n",
    "  + `col_heading`\n",
    "  + `level<k>` where `k` is the level in a MultiIndex\n",
    "  + `col<n>` where `n` is the numeric position of the column\n",
    "- Data cells include\n",
    "  + `data`\n",
    "  + `row<m>`, where `m` is the numeric position of the cell.\n",
    "  + `col<n>`, where `n` is the numeric position of the cell.\n",
    "- Blank cells include `blank`\n",
    "\n",
    "The structure of the `id` is `T_uuid_level<k>_row<m>_col<n>` where `level<k>` is used only on headings, and headings will only have either `row<m>` or `col<n>` whichever is needed. By default we've also prepended each row/column identifier with a UUID unique to each DataFrame so that the style from one doesn't collide with the styling from another within the same notebook or page. You can read more about the use of UUIDs in [Optimization](#Optimization).\n",
    "\n",
    "We can see example of the HTML by calling the [.render()][render] method.\n",
    "\n",
    "[render]: ../reference/api/pandas.io.formats.style.Styler.render.html#pandas.io.formats.style.Styler.render"
   ]
  },
  {
   "cell_type": "code",
   "execution_count": 3,
   "metadata": {},
   "outputs": [
    {
     "name": "stdout",
     "output_type": "stream",
     "text": [
      "<style type=\"text/css\">\n",
      "</style>\n",
      "<table id=\"T_1003a_\">\n",
      "  <thead>\n",
      "    <tr>\n",
      "      <th class=\"blank level0\" ></th>\n",
      "      <th class=\"col_heading level0 col0\" >c1</th>\n",
      "      <th class=\"col_heading level0 col1\" >c2</th>\n",
      "    </tr>\n",
      "  </thead>\n",
      "  <tbody>\n",
      "    <tr>\n",
      "      <th id=\"T_1003a_level0_row0\" class=\"row_heading level0 row0\" >i1</th>\n",
      "      <td id=\"T_1003a_row0_col0\" class=\"data row0 col0\" >1</td>\n",
      "      <td id=\"T_1003a_row0_col1\" class=\"data row0 col1\" >2</td>\n",
      "    </tr>\n",
      "    <tr>\n",
      "      <th id=\"T_1003a_level0_row1\" class=\"row_heading level0 row1\" >i2</th>\n",
      "      <td id=\"T_1003a_row1_col0\" class=\"data row1 col0\" >3</td>\n",
      "      <td id=\"T_1003a_row1_col1\" class=\"data row1 col1\" >4</td>\n",
      "    </tr>\n",
      "  </tbody>\n",
      "</table>\n",
      "\n"
     ]
    }
   ],
   "source": [
    "print(pd.DataFrame([[1,2],[3,4]], index=['i1', 'i2'], columns=['c1', 'c2']).style.render())"
   ]
  },
  {
   "cell_type": "code",
   "execution_count": null,
   "metadata": {},
   "outputs": [],
   "source": []
  }
 ],
 "metadata": {
  "kernelspec": {
   "display_name": "Python 3",
   "language": "python",
   "name": "python3"
  },
  "language_info": {
   "codemirror_mode": {
    "name": "ipython",
    "version": 3
   },
   "file_extension": ".py",
   "mimetype": "text/x-python",
   "name": "python",
   "nbconvert_exporter": "python",
   "pygments_lexer": "ipython3",
   "version": "3.8.7"
  }
 },
 "nbformat": 4,
 "nbformat_minor": 1
}
