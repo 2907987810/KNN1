{
 "metadata": {
  "name": "pandas_nanoseconds"
 },
 "nbformat": 3,
 "nbformat_minor": 0,
 "worksheets": [
  {
   "cells": [
    {
     "cell_type": "code",
     "collapsed": false,
     "input": [
      "import numpy as np\n",
      "import pandas as pd"
     ],
     "language": "python",
     "metadata": {},
     "outputs": [],
     "prompt_number": 1
    },
    {
     "cell_type": "code",
     "collapsed": false,
     "input": [
      "pd.DatetimeIndex(start=pd.Timestamp('2012-12-01'), periods=10, freq=pd.offsets.Nano(2800))"
     ],
     "language": "python",
     "metadata": {},
     "outputs": [
      {
       "output_type": "pyout",
       "prompt_number": 6,
       "text": [
        "<class 'pandas.tseries.index.DatetimeIndex'>\n",
        "[2012-12-01 00:00:00, ..., 2012-12-01 00:00:00.000025200]\n",
        "Length: 10, Freq: 2800N, Timezone: None"
       ]
      }
     ],
     "prompt_number": 6
    },
    {
     "cell_type": "code",
     "collapsed": false,
     "input": [
      "pd.DatetimeIndex(start=pd.Timestamp('2012-12-01'), periods=10, freq='2800N')"
     ],
     "language": "python",
     "metadata": {},
     "outputs": [
      {
       "output_type": "pyout",
       "prompt_number": 15,
       "text": [
        "<class 'pandas.tseries.index.DatetimeIndex'>\n",
        "[2012-12-01 00:00:00, ..., 2012-12-01 00:00:00.000025200]\n",
        "Length: 10, Freq: 2800N, Timezone: None"
       ]
      }
     ],
     "prompt_number": 15
    },
    {
     "cell_type": "code",
     "collapsed": false,
     "input": [],
     "language": "python",
     "metadata": {},
     "outputs": []
    }
   ],
   "metadata": {}
  }
 ]
}