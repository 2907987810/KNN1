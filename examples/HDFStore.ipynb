{
 "metadata": {
  "name": "HDFStore"
 },
 "nbformat": 3,
 "nbformat_minor": 0,
 "worksheets": [
  {
   "cells": [
    {
     "cell_type": "markdown",
     "metadata": {},
     "source": [
      "Extension of the HDFStore Documenation to show Table usage  \n",
      "Excellect original docs @ http://pandas.pydata.org/pandas-docs/stable/io.html#hdf5-pytables  \n",
      "  \n",
      "HDFStore supports a Table object to enable HDF5 storage of appendable DataFrames and Panels"
     ]
    },
    {
     "cell_type": "code",
     "collapsed": false,
     "input": [
      "import pandas\n",
      "import numpy as np\n",
      "import os"
     ],
     "language": "python",
     "metadata": {},
     "outputs": [],
     "prompt_number": 1
    },
    {
     "cell_type": "code",
     "collapsed": false,
     "input": [
      "if os.path.exists('store.h5'):\n",
      "        os.remove('store.h5')\n",
      "store = pandas.io.pytables.HDFStore('store.h5')\n",
      "store"
     ],
     "language": "python",
     "metadata": {},
     "outputs": [
      {
       "output_type": "pyout",
       "prompt_number": 2,
       "text": [
        "<class 'pandas.io.pytables.HDFStore'>\n",
        "File path: store.h5\n",
        "Empty"
       ]
      }
     ],
     "prompt_number": 2
    },
    {
     "cell_type": "code",
     "collapsed": false,
     "input": [
      "p = pandas.Panel(np.random.randn(2, 30, 4), items=['Item1', 'Item2'],\n",
      "    major_axis=pandas.date_range('1/1/2000', periods=30),\n",
      "    minor_axis=['A', 'B', 'C', 'D'])\n",
      "p"
     ],
     "language": "python",
     "metadata": {},
     "outputs": [
      {
       "output_type": "pyout",
       "prompt_number": 3,
       "text": [
        "<class 'pandas.core.panel.Panel'>\n",
        "Dimensions: 2 (items) x 30 (major) x 4 (minor)\n",
        "Items: Item1 to Item2\n",
        "Major axis: 2000-01-01 00:00:00 to 2000-01-30 00:00:00\n",
        "Minor axis: A to D"
       ]
      }
     ],
     "prompt_number": 3
    },
    {
     "cell_type": "code",
     "collapsed": false,
     "input": [
      "# regular store and retreive of a panel (.put is equivalent to store['mypanel'] = p, .get to store['mypanel'])\n",
      "store.put('mypanel',p)\n",
      "mypanel = store.get('mypanel')\n",
      "mypanel"
     ],
     "language": "python",
     "metadata": {},
     "outputs": [
      {
       "output_type": "pyout",
       "prompt_number": 18,
       "text": [
        "<class 'pandas.core.panel.Panel'>\n",
        "Dimensions: 2 (items) x 30 (major) x 4 (minor)\n",
        "Items: Item1 to Item2\n",
        "Major axis: 2000-01-01 00:00:00 to 2000-01-30 00:00:00\n",
        "Minor axis: A to D"
       ]
      }
     ],
     "prompt_number": 18
    },
    {
     "cell_type": "code",
     "collapsed": false,
     "input": [
      "# slice out 2 panels from the major_axis\n",
      "p1 = p.ix[:,0:10,:]\n",
      "p2 = p.ix[:,10:,:]\n",
      "print p1\n",
      "print p2"
     ],
     "language": "python",
     "metadata": {},
     "outputs": [
      {
       "output_type": "stream",
       "stream": "stdout",
       "text": [
        "<class 'pandas.core.panel.Panel'>\n",
        "Dimensions: 2 (items) x 10 (major) x 4 (minor)\n",
        "Items: Item1 to Item2\n",
        "Major axis: 2000-01-01 00:00:00 to 2000-01-10 00:00:00\n",
        "Minor axis: A to D\n",
        "<class 'pandas.core.panel.Panel'>\n",
        "Dimensions: 2 (items) x 20 (major) x 4 (minor)\n",
        "Items: Item1 to Item2\n",
        "Major axis: 2000-01-11 00:00:00 to 2000-01-30 00:00:00\n",
        "Minor axis: A to D\n"
       ]
      }
     ],
     "prompt_number": 19
    },
    {
     "cell_type": "code",
     "collapsed": false,
     "input": [
      "# store panels via append\n",
      "store.append('appendpanel',p1)\n",
      "store.append('appendpanel',p2)\n",
      "store"
     ],
     "language": "python",
     "metadata": {},
     "outputs": [
      {
       "output_type": "pyout",
       "prompt_number": 6,
       "text": [
        "<class 'pandas.io.pytables.HDFStore'>\n",
        "File path: store.h5\n",
        "appendpanel     Panel (Table)\n",
        "mypanel         Panel        "
       ]
      }
     ],
     "prompt_number": 6
    },
    {
     "cell_type": "code",
     "collapsed": false,
     "input": [
      "# retrieve\n",
      "appendpanel = store.select('appendpanel')\n",
      "appendpanel"
     ],
     "language": "python",
     "metadata": {},
     "outputs": [
      {
       "output_type": "pyout",
       "prompt_number": 7,
       "text": [
        "<class 'pandas.core.panel.Panel'>\n",
        "Dimensions: 2 (items) x 30 (major) x 4 (minor)\n",
        "Items: Item1 to Item2\n",
        "Major axis: 2000-01-01 00:00:00 to 2000-01-30 00:00:00\n",
        "Minor axis: A to D"
       ]
      }
     ],
     "prompt_number": 7
    },
    {
     "cell_type": "code",
     "collapsed": false,
     "input": [
      "# let's select on the major_axis\n",
      "import datetime\n",
      "slicepanel = store.select('appendpanel',\n",
      "    where = [ dict(field = 'index', op = '>=', value = datetime.datetime(2000,1,9)), dict(field = 'index', op = '<=', value = datetime.datetime(2000,1,25)) ])\n",
      "slicepanel"
     ],
     "language": "python",
     "metadata": {},
     "outputs": [
      {
       "output_type": "pyout",
       "prompt_number": 8,
       "text": [
        "<class 'pandas.core.panel.Panel'>\n",
        "Dimensions: 2 (items) x 17 (major) x 4 (minor)\n",
        "Items: Item1 to Item2\n",
        "Major axis: 2000-01-09 00:00:00 to 2000-01-25 00:00:00\n",
        "Minor axis: A to D"
       ]
      }
     ],
     "prompt_number": 8
    },
    {
     "cell_type": "code",
     "collapsed": false,
     "input": [
      "# here we select on the minor axis\n",
      "slicepanel2 = store.select('appendpanel', where = [ dict(field = 'column', value = ['A','B']) ])\n",
      "slicepanel2"
     ],
     "language": "python",
     "metadata": {},
     "outputs": [
      {
       "output_type": "pyout",
       "prompt_number": 9,
       "text": [
        "<class 'pandas.core.panel.Panel'>\n",
        "Dimensions: 2 (items) x 30 (major) x 2 (minor)\n",
        "Items: Item1 to Item2\n",
        "Major axis: 2000-01-01 00:00:00 to 2000-01-30 00:00:00\n",
        "Minor axis: A to B"
       ]
      }
     ],
     "prompt_number": 9
    },
    {
     "cell_type": "code",
     "collapsed": false,
     "input": [
      "# delete operations\n",
      "store.remove('appendpanel',where = [ dict(field = 'column', value = ['A','B']) ])\n",
      "store.select('appendpanel')\n",
      "                      "
     ],
     "language": "python",
     "metadata": {},
     "outputs": [
      {
       "output_type": "pyout",
       "prompt_number": 10,
       "text": [
        "<class 'pandas.core.panel.Panel'>\n",
        "Dimensions: 2 (items) x 30 (major) x 2 (minor)\n",
        "Items: Item1 to Item2\n",
        "Major axis: 2000-01-01 00:00:00 to 2000-01-30 00:00:00\n",
        "Minor axis: C to D"
       ]
      }
     ],
     "prompt_number": 10
    },
    {
     "cell_type": "markdown",
     "metadata": {},
     "source": [
      "notes & caveats\n",
      "  \n",
      "seleting on both major & minor axis is possible (extend the where clause)  \n",
      "selection by items (top level panel dimension) is not possible; you always get all of the items in the returned panel   \n",
      "in general it is best to store your panel with the most frequently selected dimension in the minor axis and a time/date like dimension in the major axis  \n",
      "mixed type items are currently not supported (e.g. all of your data must be floats)  \n",
      "currently the major_axis is NOT indexed by pytables (as there is a bug in the pytables spec for this)\n",
      "  \n",
      "performance is quite good on the sub-selections and tables sizes can be quite large  \n",
      "in fact you can often append panels objects to create a giant table on disk, then subselect out as needed  (e.g. write once - read many)\n",
      "  \n",
      "in general I compress tables after writing them (using blosc compression) - much slower if you compress as you go  \n",
      "  \n",
      "If I am deleting a lot of data, I will either rebuild the table (erase and rewrite),  \n",
      "  or use the pytables utilities ptrepack to rewrite the file (and also can change compression methods)  \n",
      "  \n",
      "once a table is written, the items are fixed for that table; you can append only items that match exactly those on disk  \n",
      "(if you want to change this, then rebuild - e.g. erase and write a new table)  \n",
      "  \n",
      "duplicate items can be written, but are filtered out in selection (with the last items being selected; thus a table is unique on major, minor pairs)\n",
      "\n"
     ]
    },
    {
     "cell_type": "code",
     "collapsed": false,
     "input": [
      "large_p = pandas.Panel(np.random.randn(2, 1000, 1000), items=['Item1', 'Item2'],\n",
      "    major_axis=pandas.date_range('1/1/2000', periods=1000), minor_axis = [ 'E%s' % i for i in xrange(1000) ])\n",
      "large_p"
     ],
     "language": "python",
     "metadata": {},
     "outputs": [
      {
       "output_type": "pyout",
       "prompt_number": 11,
       "text": [
        "<class 'pandas.core.panel.Panel'>\n",
        "Dimensions: 2 (items) x 1000 (major) x 1000 (minor)\n",
        "Items: Item1 to Item2\n",
        "Major axis: 2000-01-01 00:00:00 to 2002-09-26 00:00:00\n",
        "Minor axis: E0 to E999"
       ]
      }
     ],
     "prompt_number": 11
    },
    {
     "cell_type": "code",
     "collapsed": false,
     "input": [
      "if os.path.exists('large_store.h5'):\n",
      "        os.remove('large_store.h5')\n",
      "large_store = pandas.io.pytables.HDFStore('large_store.h5')"
     ],
     "language": "python",
     "metadata": {},
     "outputs": [],
     "prompt_number": 12
    },
    {
     "cell_type": "code",
     "collapsed": false,
     "input": [
      "large_store.append('large',large_p)"
     ],
     "language": "python",
     "metadata": {},
     "outputs": [],
     "prompt_number": 13
    },
    {
     "cell_type": "code",
     "collapsed": false,
     "input": [
      "# we basically wrote a structure of major_axis x minor_axis rows (with items as a numpy array of x items) (less if nans in the data)\n",
      "print large_store.handle.root.large.table"
     ],
     "language": "python",
     "metadata": {},
     "outputs": [
      {
       "output_type": "stream",
       "stream": "stdout",
       "text": [
        "/large/table (Table(1000000,)) ''\n"
       ]
      }
     ],
     "prompt_number": 17
    },
    {
     "cell_type": "code",
     "collapsed": false,
     "input": [
      "### on a slow machine!\n",
      "\n",
      "def f():\n",
      "    return large_store.select('large',where = [ dict(field = 'index', op = '>=', value = datetime.datetime(2002,9,12)) ])\n",
      "print f(), \"\\n\" \n",
      "\n",
      "print \"selection by major_axis\"\n",
      "%timeit f()\n",
      "\n",
      "print \"\\n\"\n",
      "def f():\n",
      "    return large_store.select('large',where = [ dict(field = 'column', value = [ \"E%s\" % i for i in xrange(100) ]) ])\n",
      "print f(), \"\\n\"\n",
      "\n",
      "print \"selection by minor axis\"\n",
      "%timeit f()"
     ],
     "language": "python",
     "metadata": {},
     "outputs": [
      {
       "output_type": "stream",
       "stream": "stdout",
       "text": [
        "<class 'pandas.core.panel.Panel'>\n",
        "Dimensions: 2 (items) x 15 (major) x 1000 (minor)\n",
        "Items: Item1 to Item2\n",
        "Major axis: 2002-09-12 00:00:00 to 2002-09-26 00:00:00\n",
        "Minor axis: E0 to E999 \n",
        "\n",
        "selection by major_axis\n",
        "1 loops, best of 3: 607 ms per loop"
       ]
      },
      {
       "output_type": "stream",
       "stream": "stdout",
       "text": [
        "\n",
        "\n",
        "\n",
        "<class 'pandas.core.panel.Panel'>\n",
        "Dimensions: 2 (items) x 1000 (major) x 100 (minor)\n",
        "Items: Item1 to Item2\n",
        "Major axis: 2000-01-01 00:00:00 to 2002-09-26 00:00:00\n",
        "Minor axis: E0 to E99"
       ]
      },
      {
       "output_type": "stream",
       "stream": "stdout",
       "text": [
        " \n",
        "\n",
        "selection by minor axis\n",
        "1 loops, best of 3: 1.1 s per loop"
       ]
      },
      {
       "output_type": "stream",
       "stream": "stdout",
       "text": [
        "\n"
       ]
      }
     ],
     "prompt_number": 16
    },
    {
     "cell_type": "code",
     "collapsed": false,
     "input": [],
     "language": "python",
     "metadata": {},
     "outputs": [],
     "prompt_number": 15
    }
   ],
   "metadata": {}
  }
 ]
}